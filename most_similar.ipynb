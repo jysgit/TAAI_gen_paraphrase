{
 "cells": [
  {
   "cell_type": "code",
   "execution_count": 2,
   "metadata": {},
   "outputs": [],
   "source": [
    "import os\n",
    "import numpy as np\n",
    "from numpy.linalg import norm"
   ]
  },
  {
   "cell_type": "markdown",
   "metadata": {},
   "source": [
    "## utilities"
   ]
  },
  {
   "cell_type": "code",
   "execution_count": 6,
   "metadata": {},
   "outputs": [],
   "source": [
    "def head(li, n=10):\n",
    "    for i, content in enumerate(li):\n",
    "        if i > n: break\n",
    "        print(content)"
   ]
  },
  {
   "cell_type": "code",
   "execution_count": 8,
   "metadata": {},
   "outputs": [],
   "source": [
    "def cosine_similarity(a, b):\n",
    "    return np.inner(a, b) / (norm(a) * norm(b))"
   ]
  },
  {
   "cell_type": "markdown",
   "metadata": {},
   "source": [
    "## load all embeddings"
   ]
  },
  {
   "cell_type": "code",
   "execution_count": 2,
   "metadata": {},
   "outputs": [],
   "source": [
    "emb_dir = 'bundle_vec'"
   ]
  },
  {
   "cell_type": "code",
   "execution_count": 3,
   "metadata": {},
   "outputs": [],
   "source": [
    "bundles_emb = {}\n",
    "for filename in os.listdir(emb_dir):\n",
    "    if filename in ['.', '..']: continue\n",
    "    bundle = os.path.splitext(filename)[0].replace('_', ' ')\n",
    "    emb = np.load(os.path.join(emb_dir, filename))\n",
    "    bundles_emb[bundle] = emb"
   ]
  },
  {
   "cell_type": "markdown",
   "metadata": {},
   "source": [
    "check content"
   ]
  },
  {
   "cell_type": "code",
   "execution_count": 4,
   "metadata": {},
   "outputs": [
    {
     "name": "stdout",
     "output_type": "stream",
     "text": [
      "r u mi [ 0.00746889  0.00400403  0.05927827 ... -0.01658441 -0.02914623\n",
      " -0.01108123]\n"
     ]
    }
   ],
   "source": [
    "for k, v in bundles_emb.items():\n",
    "    print(k, v)\n",
    "    break"
   ]
  },
  {
   "cell_type": "code",
   "execution_count": 7,
   "metadata": {},
   "outputs": [
    {
     "name": "stdout",
     "output_type": "stream",
     "text": [
      "r u mi\n",
      "look forward to\n",
      "see -PRON- Facebook page\n",
      "Bus route 862 from\n",
      "sweeping view of\n",
      "likely to be\n",
      "bird - eye view of the\n",
      "hwy 11 km\n",
      "view from the\n",
      "serve some of\n",
      "house in a\n"
     ]
    }
   ],
   "source": [
    "head(bundles_emb.keys(), 10)"
   ]
  },
  {
   "cell_type": "markdown",
   "metadata": {},
   "source": [
    "## test similarity"
   ]
  },
  {
   "cell_type": "code",
   "execution_count": 9,
   "metadata": {},
   "outputs": [],
   "source": [
    "def most_similar(target, bundles, n=5):\n",
    "    similarities = []\n",
    "    target_emb = bundles[target]\n",
    "    for bundle, bundle_emb in bundles.items():\n",
    "        if bundle == target: continue\n",
    "        similarities.append((target, bundle, cosine_similarity(target_emb, bundle_emb)))\n",
    "    similarities.sort(key=lambda emb:-emb[2])\n",
    "    return similarities[:n]"
   ]
  },
  {
   "cell_type": "code",
   "execution_count": 24,
   "metadata": {},
   "outputs": [],
   "source": [
    "def print_similarity(tuples):\n",
    "    head = True\n",
    "    for t in tuples:\n",
    "        if head:\n",
    "            print(f'{t[0]}')\n",
    "            head = False\n",
    "        print(f'  > {t[1]}\\t{t[2]}')"
   ]
  },
  {
   "cell_type": "markdown",
   "metadata": {},
   "source": [
    "## slide show"
   ]
  },
  {
   "cell_type": "markdown",
   "metadata": {},
   "source": [
    "### better examples"
   ]
  },
  {
   "cell_type": "code",
   "execution_count": 41,
   "metadata": {},
   "outputs": [
    {
     "name": "stdout",
     "output_type": "stream",
     "text": [
      "look out for\n",
      "  > look for the\t0.9493948817253113\n",
      "  > ask for\t0.8713613152503967\n",
      "  > build in the\t0.8521924018859863\n",
      "  > view over the\t0.848524272441864\n",
      "  > close on the\t0.8435164093971252\n"
     ]
    }
   ],
   "source": [
    "print_similarity(most_similar('look out for', bundles_emb))"
   ]
  },
  {
   "cell_type": "code",
   "execution_count": null,
   "metadata": {},
   "outputs": [],
   "source": []
  },
  {
   "cell_type": "markdown",
   "metadata": {},
   "source": [
    "### worse examples"
   ]
  },
  {
   "cell_type": "markdown",
   "metadata": {},
   "source": [
    "It seems only to find phrases that contains more the same words"
   ]
  },
  {
   "cell_type": "code",
   "execution_count": 37,
   "metadata": {},
   "outputs": [
    {
     "name": "stdout",
     "output_type": "stream",
     "text": [
      "rest of the\n",
      "  > much of the\t0.9916155338287354\n",
      "  > part of the\t0.9897516369819641\n",
      "  > many of the\t0.9894800186157227\n",
      "  > example of the\t0.9874657988548279\n",
      "  > use of the\t0.9869388341903687\n"
     ]
    }
   ],
   "source": [
    "print_similarity(most_similar('rest of the', bundles_emb))"
   ]
  },
  {
   "cell_type": "code",
   "execution_count": 39,
   "metadata": {},
   "outputs": [
    {
     "name": "stdout",
     "output_type": "stream",
     "text": [
      "look out for\n",
      "  > look for the\t0.9493948817253113\n",
      "  > ask for\t0.8713613152503967\n",
      "  > build in the\t0.8521924018859863\n",
      "  > view over the\t0.848524272441864\n",
      "  > close on the\t0.8435164093971252\n"
     ]
    }
   ],
   "source": [
    "print_similarity(most_similar('look out for', bundles_emb))"
   ]
  },
  {
   "cell_type": "code",
   "execution_count": 43,
   "metadata": {},
   "outputs": [
    {
     "name": "stdout",
     "output_type": "stream",
     "text": [
      "set in a\n",
      "  > house in a\t0.98302161693573\n",
      "  > such as a\t0.9812556505203247\n",
      "  > person for a\t0.9805894494056702\n",
      "  > area be a\t0.9783334732055664\n",
      "  > hotel be a\t0.9744232892990112\n"
     ]
    }
   ],
   "source": [
    "print_similarity(most_similar('set in a', bundles_emb))"
   ]
  },
  {
   "cell_type": "markdown",
   "metadata": {},
   "source": [
    "... or totally no relations"
   ]
  },
  {
   "cell_type": "code",
   "execution_count": 45,
   "metadata": {},
   "outputs": [
    {
     "name": "stdout",
     "output_type": "stream",
     "text": [
      "base on\n",
      "  > ask for\t0.8358050584793091\n",
      "  > head up the\t0.777601957321167\n",
      "  > check the website\t0.7459233403205872\n",
      "  > craft beers on\t0.677878737449646\n",
      "  > Night Market p\t0.6553135514259338\n"
     ]
    }
   ],
   "source": [
    "print_similarity(most_similar('base on', bundles_emb))"
   ]
  },
  {
   "cell_type": "code",
   "execution_count": null,
   "metadata": {},
   "outputs": [],
   "source": []
  },
  {
   "cell_type": "code",
   "execution_count": null,
   "metadata": {},
   "outputs": [],
   "source": []
  },
  {
   "cell_type": "markdown",
   "metadata": {},
   "source": [
    "### playground"
   ]
  },
  {
   "cell_type": "code",
   "execution_count": 44,
   "metadata": {},
   "outputs": [
    {
     "name": "stdout",
     "output_type": "stream",
     "text": [
      "ask for\n",
      "  > look for the\t0.9020828604698181\n",
      "  > base on\t0.8358050584793091\n",
      "  > build in the\t0.8281060457229614\n",
      "  > close on the\t0.8229482769966125\n",
      "  > check the website\t0.8090062141418457\n"
     ]
    }
   ],
   "source": [
    "print_similarity(most_similar('ask for', bundles_emb))"
   ]
  },
  {
   "cell_type": "code",
   "execution_count": 26,
   "metadata": {},
   "outputs": [
    {
     "name": "stdout",
     "output_type": "stream",
     "text": [
      "pros and cons\n",
      "  > philippine and eurasian\t0.9594093561172485\n",
      "  > local and international\t0.9533032774925232\n",
      "  > much of the\t0.9510403275489807\n",
      "  > rest of the\t0.9498149156570435\n",
      "  > many of the\t0.9483734369277954\n"
     ]
    }
   ],
   "source": [
    "print_similarity(most_similar('pros and cons', bundles_emb))"
   ]
  },
  {
   "cell_type": "code",
   "execution_count": 27,
   "metadata": {},
   "outputs": [
    {
     "name": "stdout",
     "output_type": "stream",
     "text": [
      "look forward to\n",
      "  > serve some of\t0.9575366973876953\n",
      "  > person for a\t0.9568845629692078\n",
      "  > beach be a\t0.9548571109771729\n",
      "  > house in a\t0.9541386365890503\n",
      "  > sweeping view of\t0.9484091997146606\n"
     ]
    }
   ],
   "source": [
    "print_similarity(most_similar('look forward to', bundles_emb))"
   ]
  },
  {
   "cell_type": "code",
   "execution_count": 29,
   "metadata": {},
   "outputs": [
    {
     "name": "stdout",
     "output_type": "stream",
     "text": [
      "come for the\n",
      "  > look for the\t0.9471341371536255\n",
      "  > build in the\t0.9103793501853943\n",
      "  > ask for\t0.9102256298065186\n",
      "  > close on the\t0.892799973487854\n",
      "  > view over the\t0.8551517128944397\n"
     ]
    }
   ],
   "source": [
    "print_similarity(most_similar('come for the', bundles_emb))"
   ]
  },
  {
   "cell_type": "code",
   "execution_count": 31,
   "metadata": {},
   "outputs": [
    {
     "name": "stdout",
     "output_type": "stream",
     "text": [
      "hope for\n",
      "  > ask for\t0.9324443936347961\n",
      "  > look for the\t0.8960824012756348\n",
      "  > build in the\t0.8452931642532349\n",
      "  > base on\t0.8345198631286621\n",
      "  > close on the\t0.8268554210662842\n"
     ]
    }
   ],
   "source": [
    "print_similarity(most_similar('hope for', bundles_emb))"
   ]
  },
  {
   "cell_type": "code",
   "execution_count": 32,
   "metadata": {},
   "outputs": [
    {
     "name": "stdout",
     "output_type": "stream",
     "text": [
      "according to\n",
      "  > apply to\t0.9652746319770813\n",
      "  > person for a\t0.9581030011177063\n",
      "  > date back to\t0.9562320113182068\n",
      "  > house in a\t0.9539720416069031\n",
      "  > area be a\t0.9484989643096924\n"
     ]
    }
   ],
   "source": [
    "print_similarity(most_similar('according to', bundles_emb))"
   ]
  },
  {
   "cell_type": "code",
   "execution_count": 34,
   "metadata": {},
   "outputs": [
    {
     "name": "stdout",
     "output_type": "stream",
     "text": [
      "wall of the\n",
      "  > rest of the\t0.979120135307312\n",
      "  > example of the\t0.9783733487129211\n",
      "  > part of the\t0.9783085584640503\n",
      "  > use of the\t0.9782791137695312\n",
      "  > many of the\t0.978050172328949\n"
     ]
    }
   ],
   "source": [
    "print_similarity(most_similar('wall of the', bundles_emb))"
   ]
  },
  {
   "cell_type": "code",
   "execution_count": 35,
   "metadata": {
    "scrolled": true
   },
   "outputs": [
    {
     "name": "stdout",
     "output_type": "stream",
     "text": [
      "likely to be\n",
      "  > step to the\t0.9713488221168518\n",
      "  > much of the\t0.9707946181297302\n",
      "  > many of the\t0.968322217464447\n",
      "  > way to get here be\t0.9675189852714539\n",
      "  > use of the\t0.9660195708274841\n"
     ]
    }
   ],
   "source": [
    "print_similarity(most_similar('likely to be', bundles_emb))"
   ]
  },
  {
   "cell_type": "code",
   "execution_count": 46,
   "metadata": {},
   "outputs": [
    {
     "name": "stdout",
     "output_type": "stream",
     "text": [
      "shop in the\n",
      "  > build in the\t0.8964031338691711\n",
      "  > ask for\t0.8503081202507019\n",
      "  > head up the\t0.836192786693573\n",
      "  > check the website\t0.8255414962768555\n",
      "  > craft beers on\t0.6668857932090759\n"
     ]
    }
   ],
   "source": [
    "print_similarity(most_similar('shop in the', bundles_emb))"
   ]
  },
  {
   "cell_type": "code",
   "execution_count": 47,
   "metadata": {},
   "outputs": [
    {
     "name": "stdout",
     "output_type": "stream",
     "text": [
      "want to know\n",
      "  > likely to be\t0.9710200428962708\n",
      "  > step to the\t0.9704611301422119\n",
      "  > use of the\t0.965178370475769\n",
      "  > much of the\t0.9650048017501831\n",
      "  > many of the\t0.9639893770217896\n"
     ]
    }
   ],
   "source": [
    "print_similarity(most_similar('want to know', bundles_emb))"
   ]
  },
  {
   "cell_type": "code",
   "execution_count": 48,
   "metadata": {},
   "outputs": [
    {
     "name": "stdout",
     "output_type": "stream",
     "text": [
      "apply to\n",
      "  > date back to\t0.9482353329658508\n",
      "  > person for a\t0.9474472999572754\n",
      "  > area be a\t0.9461380243301392\n",
      "  > serve some of\t0.9446873664855957\n",
      "  > beach be a\t0.9442049860954285\n"
     ]
    }
   ],
   "source": [
    "print_similarity(most_similar('apply to', bundles_emb))"
   ]
  },
  {
   "cell_type": "code",
   "execution_count": 50,
   "metadata": {},
   "outputs": [
    {
     "name": "stdout",
     "output_type": "stream",
     "text": [
      "date back to\n",
      "  > look forward to\t0.9680248498916626\n",
      "  > person for a\t0.9631557464599609\n",
      "  > area be a\t0.962228536605835\n",
      "  > house in a\t0.9607532024383545\n",
      "  > floor be a\t0.9602826833724976\n"
     ]
    }
   ],
   "source": [
    "print_similarity(most_similar('date back to', bundles_emb))"
   ]
  },
  {
   "cell_type": "markdown",
   "metadata": {},
   "source": []
  },
  {
   "cell_type": "code",
   "execution_count": null,
   "metadata": {},
   "outputs": [],
   "source": []
  },
  {
   "cell_type": "code",
   "execution_count": null,
   "metadata": {},
   "outputs": [],
   "source": []
  },
  {
   "cell_type": "code",
   "execution_count": null,
   "metadata": {},
   "outputs": [],
   "source": []
  },
  {
   "cell_type": "code",
   "execution_count": 1,
   "metadata": {},
   "outputs": [
    {
     "name": "stdout",
     "output_type": "stream",
     "text": [
      "input: ask for a\n"
     ]
    },
    {
     "ename": "NameError",
     "evalue": "name 'print_similarity' is not defined",
     "output_type": "error",
     "traceback": [
      "\u001b[0;31m---------------------------------------------------------------------------\u001b[0m",
      "\u001b[0;31mNameError\u001b[0m                                 Traceback (most recent call last)",
      "\u001b[0;32m<ipython-input-1-6d670e5bcc35>\u001b[0m in \u001b[0;36m<module>\u001b[0;34m\u001b[0m\n\u001b[1;32m      1\u001b[0m \u001b[0;32mwhile\u001b[0m \u001b[0;32mTrue\u001b[0m\u001b[0;34m:\u001b[0m\u001b[0;34m\u001b[0m\u001b[0m\n\u001b[1;32m      2\u001b[0m     \u001b[0mquery\u001b[0m \u001b[0;34m=\u001b[0m \u001b[0minput\u001b[0m\u001b[0;34m(\u001b[0m\u001b[0;34m'input: '\u001b[0m\u001b[0;34m)\u001b[0m\u001b[0;34m\u001b[0m\u001b[0m\n\u001b[0;32m----> 3\u001b[0;31m     \u001b[0mprint_similarity\u001b[0m\u001b[0;34m(\u001b[0m\u001b[0mmost_similar\u001b[0m\u001b[0;34m(\u001b[0m\u001b[0mquery\u001b[0m\u001b[0;34m,\u001b[0m \u001b[0mbundles_emb\u001b[0m\u001b[0;34m)\u001b[0m\u001b[0;34m)\u001b[0m\u001b[0;34m\u001b[0m\u001b[0m\n\u001b[0m",
      "\u001b[0;31mNameError\u001b[0m: name 'print_similarity' is not defined"
     ]
    }
   ],
   "source": [
    "while True:\n",
    "    query = input('input: ')\n",
    "    if query in ['quit', 'q']: breakn\n",
    "    print_similarity(most_similar(query, bundles_emb))"
   ]
  },
  {
   "cell_type": "code",
   "execution_count": null,
   "metadata": {},
   "outputs": [],
   "source": []
  }
 ],
 "metadata": {
  "kernelspec": {
   "display_name": "Python3.7 [travel_pattern]",
   "language": "python",
   "name": "travel_pattern"
  },
  "language_info": {
   "codemirror_mode": {
    "name": "ipython",
    "version": 3
   },
   "file_extension": ".py",
   "mimetype": "text/x-python",
   "name": "python",
   "nbconvert_exporter": "python",
   "pygments_lexer": "ipython3",
   "version": "3.6.5"
  }
 },
 "nbformat": 4,
 "nbformat_minor": 2
}
